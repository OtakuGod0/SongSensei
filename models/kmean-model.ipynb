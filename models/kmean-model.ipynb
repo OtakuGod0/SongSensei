{
 "cells": [
  {
   "cell_type": "code",
   "execution_count": 2,
   "id": "0e1b5668-c2e0-4529-bc9d-9363ecfbd11d",
   "metadata": {},
   "outputs": [],
   "source": [
    "import pandas as pd\n",
    "import numpy as np \n",
    "from sklearn.preprocessing import StandardScaler, OneHotEncoder\n",
    "from sklearn.cluster import KMeans\n",
    "import random\n",
    "import os"
   ]
  },
  {
   "cell_type": "code",
   "execution_count": null,
   "id": "1a1a9398",
   "metadata": {},
   "outputs": [],
   "source": []
  },
  {
   "cell_type": "code",
   "execution_count": 2,
   "id": "a28f50d0-1d04-4c92-a3d5-33bf513de74b",
   "metadata": {},
   "outputs": [],
   "source": [
    "dataset = \"sample.csv\"\n",
    "df = pd.read_csv(dataset)"
   ]
  },
  {
   "cell_type": "code",
   "execution_count": 3,
   "id": "e45deb2b-319a-49b0-8599-d03f6c2e32cc",
   "metadata": {},
   "outputs": [],
   "source": [
    "# Selecting all number dtypes\n",
    "features = df.select_dtypes(np.number).columns"
   ]
  },
  {
   "cell_type": "code",
   "execution_count": 4,
   "id": "8bcc4190-47c8-43de-887d-98e6582ddf4c",
   "metadata": {},
   "outputs": [],
   "source": [
    "# Scaling data for better model performance \n",
    "scaler = StandardScaler()\n",
    "scaled_features = scaler.fit_transform(df[features])"
   ]
  },
  {
   "cell_type": "code",
   "execution_count": 5,
   "id": "0aaba689-c86a-4e4a-85d3-d83275079c51",
   "metadata": {},
   "outputs": [],
   "source": [
    "# Encoding artist column\n",
    "encoder = OneHotEncoder(sparse_output = False)\n",
    "encoded_data = encoder.fit_transform(df[['artist']])\n",
    "\n",
    "# Weighting artist feature\n",
    "weight_factor = 3\n",
    "encoded_data *= weight_factor\n",
    "\n",
    "# changing to DataFrame \n",
    "encoded_df = pd.DataFrame(encoded_data, columns = encoder.get_feature_names_out(['artist']))\n",
    "\n",
    "# Concatinating encoded dataframe\n",
    "df_encoded = pd.concat([df, encoded_df], axis = 1)\n",
    "\n",
    "# updating features to include artist\n",
    "features = df_encoded.select_dtypes(np.number).columns"
   ]
  },
  {
   "cell_type": "code",
   "execution_count": null,
   "id": "fa768d25-f726-4f94-a327-2cfe72c10f58",
   "metadata": {},
   "outputs": [
    {
     "name": "stderr",
     "output_type": "stream",
     "text": [
      "C:\\Users\\admin\\anaconda3\\Lib\\site-packages\\sklearn\\cluster\\_kmeans.py:1446: UserWarning: KMeans is known to have a memory leak on Windows with MKL, when there are less chunks than available threads. You can avoid it by setting the environment variable OMP_NUM_THREADS=1.\n",
      "  warnings.warn(\n"
     ]
    }
   ],
   "source": [
    "# Model Training\n",
    "k = 10 # high number of cluster for more tailored recommendation\n",
    "kmeans = KMeans(n_clusters = k, max_iter = 300, random_state = 0)\n",
    "y_kmeans = kmeans.fit_predict(scaled_features)"
   ]
  },
  {
   "cell_type": "code",
   "execution_count": 7,
   "id": "38d28879-28ab-4c94-8710-f43f1c600462",
   "metadata": {},
   "outputs": [],
   "source": [
    "df['Cluster'] = y_kmeans"
   ]
  },
  {
   "cell_type": "code",
   "execution_count": 8,
   "id": "a2e6f044-8fb3-4d91-aa62-b73f85af9f8e",
   "metadata": {},
   "outputs": [],
   "source": [
    "# saving the cluster data\n",
    "file, ext = os.path.splitext(dataset)\n",
    "clustered_file = f'clustered_{file}{ext}'\n",
    "df.to_csv(clustered_file, index = False) "
   ]
  },
  {
   "cell_type": "code",
   "execution_count": null,
   "id": "6024a3f1-efa6-426c-b087-03f1289322e9",
   "metadata": {},
   "outputs": [],
   "source": []
  }
 ],
 "metadata": {
  "kernelspec": {
   "display_name": "base",
   "language": "python",
   "name": "python3"
  },
  "language_info": {
   "codemirror_mode": {
    "name": "ipython",
    "version": 3
   },
   "file_extension": ".py",
   "mimetype": "text/x-python",
   "name": "python",
   "nbconvert_exporter": "python",
   "pygments_lexer": "ipython3",
   "version": "3.12.2"
  }
 },
 "nbformat": 4,
 "nbformat_minor": 5
}
